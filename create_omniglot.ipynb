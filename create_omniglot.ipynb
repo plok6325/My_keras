{
 "cells": [
  {
   "cell_type": "markdown",
   "metadata": {},
   "source": [
    "# Import Library and the images  "
   ]
  },
  {
   "cell_type": "code",
   "execution_count": 1,
   "metadata": {
    "collapsed": false
   },
   "outputs": [
    {
     "name": "stderr",
     "output_type": "stream",
     "text": [
      "Using TensorFlow backend.\n"
     ]
    }
   ],
   "source": [
    "from keras.preprocessing.image import ImageDataGenerator, array_to_img, img_to_array, load_img,img_to_array\n",
    "import numpy as np\n",
    "import matplotlib.pyplot as plt\n",
    "from os import listdir,walk\n",
    "from os.path import isfile, join"
   ]
  },
  {
   "cell_type": "markdown",
   "metadata": {},
   "source": [
    "### Load Image and save PIL Image instance to pixel value\n",
    "\n",
    "### Stack them, and save as npz file "
   ]
  },
  {
   "cell_type": "code",
   "execution_count": 2,
   "metadata": {
    "collapsed": false
   },
   "outputs": [],
   "source": [
    "mypath='/home/hongbin/Documents/LearnKeras/OMGLOT/real/'\n",
    "value_of_image=[]\n",
    "for root, dirs, files in walk(mypath):\n",
    "    images = [join(root,f) for f in files if isfile(join(root,f))]\n",
    "    for each_image in images: \n",
    "        value=img_to_array(load_img(each_image,target_size=(104,104)))\n",
    "        value_of_image.append(value.mean(axis=2))\n",
    "value_of_image= np.stack(value_of_image)\n",
    "np.savez_compressed(images=value_of_image,file='omniglot.npz')\n"
   ]
  }
 ],
 "metadata": {
  "kernelspec": {
   "display_name": "Python 2",
   "language": "python",
   "name": "python2"
  },
  "language_info": {
   "codemirror_mode": {
    "name": "ipython",
    "version": 2
   },
   "file_extension": ".py",
   "mimetype": "text/x-python",
   "name": "python",
   "nbconvert_exporter": "python",
   "pygments_lexer": "ipython2",
   "version": "2.7.13"
  }
 },
 "nbformat": 4,
 "nbformat_minor": 2
}
